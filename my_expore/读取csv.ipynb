{
 "cells": [
  {
   "cell_type": "code",
   "execution_count": 1,
   "metadata": {},
   "outputs": [],
   "source": [
    "\n",
    "import os\n",
    "import pandas as pd\n",
    "csv_path = r'E:\\explore\\minimind\\dataset\\pretrain_data.csv'"
   ]
  },
  {
   "cell_type": "code",
   "execution_count": 2,
   "metadata": {},
   "outputs": [],
   "source": [
    "df = pd.read_csv(csv_path) # 读取数据， 其中的数据格式为 q,a\n",
    "df = df.sample(frac=0.001) # 抽取样本的比列"
   ]
  },
  {
   "cell_type": "code",
   "execution_count": 7,
   "metadata": {},
   "outputs": [
    {
     "data": {
      "text/html": [
       "<div>\n",
       "<style scoped>\n",
       "    .dataframe tbody tr th:only-of-type {\n",
       "        vertical-align: middle;\n",
       "    }\n",
       "\n",
       "    .dataframe tbody tr th {\n",
       "        vertical-align: top;\n",
       "    }\n",
       "\n",
       "    .dataframe thead th {\n",
       "        text-align: right;\n",
       "    }\n",
       "</style>\n",
       "<table border=\"1\" class=\"dataframe\">\n",
       "  <thead>\n",
       "    <tr style=\"text-align: right;\">\n",
       "      <th></th>\n",
       "      <th>text</th>\n",
       "    </tr>\n",
       "  </thead>\n",
       "  <tbody>\n",
       "    <tr>\n",
       "      <th>3942440</th>\n",
       "      <td>为了更佳地营造书香校园环境，强化庆国庆的浓烈氛围，新津县方兴镇中心小学校在2019年9月17...</td>\n",
       "    </tr>\n",
       "    <tr>\n",
       "      <th>458557</th>\n",
       "      <td>而在挖掘装载机使用不很普遍的国家(如德国)，则更倾向于采用4～6吨级的产品。然而几乎所有国家...</td>\n",
       "    </tr>\n",
       "    <tr>\n",
       "      <th>994330</th>\n",
       "      <td>那么四氟喷涂的防腐效果究竟如何呢？在制作管道和阀门的时候，需要留意防腐技术的应用，因为这些产...</td>\n",
       "    </tr>\n",
       "    <tr>\n",
       "      <th>2510573</th>\n",
       "      <td>项目建设现场\\n走进三亚国际体育产业园，运用高科技助力项目高质量推进的细节随处可见。使用创新...</td>\n",
       "    </tr>\n",
       "    <tr>\n",
       "      <th>2674986</th>\n",
       "      <td>最初被称为国际仿制药联盟(IGPA)， IGBA成立于1997年3月，是一个国际仿制药协会网...</td>\n",
       "    </tr>\n",
       "  </tbody>\n",
       "</table>\n",
       "</div>"
      ],
      "text/plain": [
       "                                                      text\n",
       "3942440  为了更佳地营造书香校园环境，强化庆国庆的浓烈氛围，新津县方兴镇中心小学校在2019年9月17...\n",
       "458557   而在挖掘装载机使用不很普遍的国家(如德国)，则更倾向于采用4～6吨级的产品。然而几乎所有国家...\n",
       "994330   那么四氟喷涂的防腐效果究竟如何呢？在制作管道和阀门的时候，需要留意防腐技术的应用，因为这些产...\n",
       "2510573  项目建设现场\\n走进三亚国际体育产业园，运用高科技助力项目高质量推进的细节随处可见。使用创新...\n",
       "2674986  最初被称为国际仿制药联盟(IGPA)， IGBA成立于1997年3月，是一个国际仿制药协会网..."
      ]
     },
     "execution_count": 7,
     "metadata": {},
     "output_type": "execute_result"
    }
   ],
   "source": [
    "df.iloc[0:5]"
   ]
  },
  {
   "cell_type": "code",
   "execution_count": 11,
   "metadata": {},
   "outputs": [
    {
     "data": {
      "text/plain": [
       "Index(['text'], dtype='object')"
      ]
     },
     "execution_count": 11,
     "metadata": {},
     "output_type": "execute_result"
    }
   ],
   "source": [
    "df.keys()"
   ]
  },
  {
   "cell_type": "code",
   "execution_count": 14,
   "metadata": {},
   "outputs": [],
   "source": [
    "a = df.iloc[0]"
   ]
  },
  {
   "cell_type": "code",
   "execution_count": 16,
   "metadata": {},
   "outputs": [
    {
     "data": {
      "text/plain": [
       "'为了更佳地营造书香校园环境，强化庆国庆的浓烈氛围，新津县方兴镇中心小学校在2019年9月17日举办了我和我的祖国为主题的黑板报评选活动。KmlKml无论是印刷，还是内容的自由选择、书写，都由学生自己设计并已完成。\\n同学们分工具体：绘制图画、编写文稿、收集资料各司其职。在大家共同努力下，一块块内容丰富、各具特色的庆国庆主题板报迅速就呈现出出来了，充份传达了同学们对祖国母亲的幸福祝福。KmlKmlKmlKml此次黑板报评选活动，多角度地展现出了师生对祖国的热衷，营造了浓烈的校园氛围。各班级的黑板报设计精致，内容丰富，既超过了宣传、教育目的，又提升了学生动手、动脑的能力，充份展现出了学校师生积极向上的精神文明风貌。'"
      ]
     },
     "execution_count": 16,
     "metadata": {},
     "output_type": "execute_result"
    }
   ],
   "source": [
    "a[\"text\"]"
   ]
  },
  {
   "cell_type": "code",
   "execution_count": 17,
   "metadata": {},
   "outputs": [
    {
     "data": {
      "text/html": [
       "<div>\n",
       "<style scoped>\n",
       "    .dataframe tbody tr th:only-of-type {\n",
       "        vertical-align: middle;\n",
       "    }\n",
       "\n",
       "    .dataframe tbody tr th {\n",
       "        vertical-align: top;\n",
       "    }\n",
       "\n",
       "    .dataframe thead th {\n",
       "        text-align: right;\n",
       "    }\n",
       "</style>\n",
       "<table border=\"1\" class=\"dataframe\">\n",
       "  <thead>\n",
       "    <tr style=\"text-align: right;\">\n",
       "      <th></th>\n",
       "      <th>text</th>\n",
       "    </tr>\n",
       "  </thead>\n",
       "  <tbody>\n",
       "    <tr>\n",
       "      <th>3942440</th>\n",
       "      <td>为了更佳地营造书香校园环境，强化庆国庆的浓烈氛围，新津县方兴镇中心小学校在2019年9月17...</td>\n",
       "    </tr>\n",
       "    <tr>\n",
       "      <th>458557</th>\n",
       "      <td>而在挖掘装载机使用不很普遍的国家(如德国)，则更倾向于采用4～6吨级的产品。然而几乎所有国家...</td>\n",
       "    </tr>\n",
       "    <tr>\n",
       "      <th>994330</th>\n",
       "      <td>那么四氟喷涂的防腐效果究竟如何呢？在制作管道和阀门的时候，需要留意防腐技术的应用，因为这些产...</td>\n",
       "    </tr>\n",
       "    <tr>\n",
       "      <th>2510573</th>\n",
       "      <td>项目建设现场\\n走进三亚国际体育产业园，运用高科技助力项目高质量推进的细节随处可见。使用创新...</td>\n",
       "    </tr>\n",
       "    <tr>\n",
       "      <th>2674986</th>\n",
       "      <td>最初被称为国际仿制药联盟(IGPA)， IGBA成立于1997年3月，是一个国际仿制药协会网...</td>\n",
       "    </tr>\n",
       "    <tr>\n",
       "      <th>...</th>\n",
       "      <td>...</td>\n",
       "    </tr>\n",
       "    <tr>\n",
       "      <th>2776733</th>\n",
       "      <td>在这种情况下，食疗只能起到缓解的作用，并不能调整胃酸分泌恢复正常，更不能清除体内的有害细菌。...</td>\n",
       "    </tr>\n",
       "    <tr>\n",
       "      <th>1078110</th>\n",
       "      <td>印花工艺，包含了多种工艺，曾经丝网印花作为传统的经典印花工艺，其应用范围十分广泛，几乎涵盖了...</td>\n",
       "    </tr>\n",
       "    <tr>\n",
       "      <th>2571041</th>\n",
       "      <td>加工万向轴时，要按照国家机械部标准的数据来，如果自己设计的万向轴，扭矩过大或者扭矩过小，均会...</td>\n",
       "    </tr>\n",
       "    <tr>\n",
       "      <th>1076412</th>\n",
       "      <td>家世显赫，被人称作张公子，有“海内名士”之誉。早年曾寓居姑苏。长庆中，令狐楚表荐之，不报。辟...</td>\n",
       "    </tr>\n",
       "    <tr>\n",
       "      <th>2197395</th>\n",
       "      <td>彭州一中全体校级干部陪同。</td>\n",
       "    </tr>\n",
       "  </tbody>\n",
       "</table>\n",
       "<p>5365 rows × 1 columns</p>\n",
       "</div>"
      ],
      "text/plain": [
       "                                                      text\n",
       "3942440  为了更佳地营造书香校园环境，强化庆国庆的浓烈氛围，新津县方兴镇中心小学校在2019年9月17...\n",
       "458557   而在挖掘装载机使用不很普遍的国家(如德国)，则更倾向于采用4～6吨级的产品。然而几乎所有国家...\n",
       "994330   那么四氟喷涂的防腐效果究竟如何呢？在制作管道和阀门的时候，需要留意防腐技术的应用，因为这些产...\n",
       "2510573  项目建设现场\\n走进三亚国际体育产业园，运用高科技助力项目高质量推进的细节随处可见。使用创新...\n",
       "2674986  最初被称为国际仿制药联盟(IGPA)， IGBA成立于1997年3月，是一个国际仿制药协会网...\n",
       "...                                                    ...\n",
       "2776733  在这种情况下，食疗只能起到缓解的作用，并不能调整胃酸分泌恢复正常，更不能清除体内的有害细菌。...\n",
       "1078110  印花工艺，包含了多种工艺，曾经丝网印花作为传统的经典印花工艺，其应用范围十分广泛，几乎涵盖了...\n",
       "2571041  加工万向轴时，要按照国家机械部标准的数据来，如果自己设计的万向轴，扭矩过大或者扭矩过小，均会...\n",
       "1076412  家世显赫，被人称作张公子，有“海内名士”之誉。早年曾寓居姑苏。长庆中，令狐楚表荐之，不报。辟...\n",
       "2197395                                      彭州一中全体校级干部陪同。\n",
       "\n",
       "[5365 rows x 1 columns]"
      ]
     },
     "execution_count": 17,
     "metadata": {},
     "output_type": "execute_result"
    }
   ],
   "source": [
    "df"
   ]
  },
  {
   "cell_type": "code",
   "execution_count": null,
   "metadata": {},
   "outputs": [],
   "source": []
  }
 ],
 "metadata": {
  "kernelspec": {
   "display_name": "minimind",
   "language": "python",
   "name": "python3"
  },
  "language_info": {
   "codemirror_mode": {
    "name": "ipython",
    "version": 3
   },
   "file_extension": ".py",
   "mimetype": "text/x-python",
   "name": "python",
   "nbconvert_exporter": "python",
   "pygments_lexer": "ipython3",
   "version": "3.9.19"
  }
 },
 "nbformat": 4,
 "nbformat_minor": 2
}
